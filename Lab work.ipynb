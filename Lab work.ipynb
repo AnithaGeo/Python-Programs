{
 "cells": [
  {
   "cell_type": "markdown",
   "id": "ae8c0aed",
   "metadata": {},
   "source": [
    "### Lab 1 "
   ]
  },
  {
   "cell_type": "markdown",
   "id": "b0b93a76",
   "metadata": {},
   "source": [
    "Write a program to perform different arithmetic operations on numbers in python."
   ]
  },
  {
   "cell_type": "code",
   "execution_count": 1,
   "id": "b98193a0",
   "metadata": {},
   "outputs": [
    {
     "name": "stdout",
     "output_type": "stream",
     "text": [
      "enter input 1:32\n",
      "enter input 2:45\n",
      "1:addition\n",
      "2:subtraction\n",
      "3:multiplication\n",
      "4:division\n",
      "5:exponent\n",
      "enter choice2\n",
      "-13\n"
     ]
    }
   ],
   "source": [
    "p=int(input(\"enter input 1:\"))\n",
    "q=int(input(\"enter input 2:\"))\n",
    "print(\"1:addition\")\n",
    "print(\"2:subtraction\")\n",
    "print(\"3:multiplication\")\n",
    "print(\"4:division\")\n",
    "print(\"5:exponent\")\n",
    "n=int(input(\"enter choice\"))\n",
    "if n==1:\n",
    "    res=p+q\n",
    "elif n==2:\n",
    "    res=p-q\n",
    "elif n==3:\n",
    "    res=p*q\n",
    "elif n==4:\n",
    "    res=p/q\n",
    "elif n==5:\n",
    "    res=p**q\n",
    "print(res)"
   ]
  },
  {
   "cell_type": "markdown",
   "id": "20de0281",
   "metadata": {},
   "source": [
    "## Lab2"
   ]
  },
  {
   "cell_type": "markdown",
   "id": "371261e0",
   "metadata": {},
   "source": [
    "Write a program to create, concatenate, find range, slice, check the membership and print a string and access a sub string from a given string."
   ]
  },
  {
   "cell_type": "code",
   "execution_count": 2,
   "id": "33bdf5cd",
   "metadata": {},
   "outputs": [
    {
     "name": "stdout",
     "output_type": "stream",
     "text": [
      "Enter string:sdfvgbhj\n",
      "1:concat\n",
      "2:find range\n",
      "3:slice\n",
      "4:access substring\n",
      "Enter choice:2\n",
      "8\n"
     ]
    }
   ],
   "source": [
    "str1=input(\"Enter string:\")\n",
    "print(\"1:concat\")\n",
    "print(\"2:find range\")\n",
    "print(\"3:slice\")\n",
    "print(\"4:access substring\")\n",
    "k=int(input(\"Enter choice:\"))\n",
    "if k==1:\n",
    "    str2=input(\"Enter string to concat:\")\n",
    "    res=str1+str2\n",
    "    print(res)\n",
    "elif k==2:\n",
    "    print(len(str1))\n",
    "elif k==3:\n",
    "    print(str1[3:6])\n",
    "elif k==4:\n",
    "    str2=input(\"Enter string:\")\n",
    "    print(str2 in str1)"
   ]
  },
  {
   "cell_type": "markdown",
   "id": "1a4bcb28",
   "metadata": {},
   "source": [
    "## Lab3"
   ]
  },
  {
   "cell_type": "markdown",
   "id": "92e32ca5",
   "metadata": {},
   "source": [
    "Write a python program\n",
    "- To create list with college names, \n",
    "- Append a new college into the list, \n",
    "- Add a new college at first position and \n",
    "- Remove a name from college lists.\n"
   ]
  },
  {
   "cell_type": "code",
   "execution_count": 3,
   "id": "469e7a07",
   "metadata": {},
   "outputs": [
    {
     "data": {
      "text/plain": [
       "['dfghj', 'RCSS', 'SH', 'MA', 'CMS', 'BCM']"
      ]
     },
     "execution_count": 3,
     "metadata": {},
     "output_type": "execute_result"
    }
   ],
   "source": [
    "l1=[\"RCSS\", \"SH\", \"MA\", \"CMS\"]\n",
    "#Appending to list\n",
    "l1.append(\"BCM\")\n",
    "#Adding at first position\n",
    "l1.insert(0,\"dfghj\")\n",
    "l1"
   ]
  },
  {
   "cell_type": "code",
   "execution_count": 4,
   "id": "9cb24410",
   "metadata": {},
   "outputs": [
    {
     "data": {
      "text/plain": [
       "['dfghj', 'RCSS', 'MA', 'CMS', 'BCM']"
      ]
     },
     "execution_count": 4,
     "metadata": {},
     "output_type": "execute_result"
    }
   ],
   "source": [
    "#Removing from list\n",
    "l1.remove(\"SH\")\n",
    "l1"
   ]
  },
  {
   "cell_type": "markdown",
   "id": "972f81a3",
   "metadata": {},
   "source": [
    "## Lab4"
   ]
  },
  {
   "cell_type": "markdown",
   "id": "64480917",
   "metadata": {},
   "source": [
    "Write a program to demonstrate working with tuples in python \n",
    "- Create tuples with hardware’s of computer: - \n",
    " -  Hardware = (\"Monitor\", \"RAM\", \"Expansion cards\", \"HDD\")\n",
    "- Check whether 'HDD' is present in the tuple or not"
   ]
  },
  {
   "cell_type": "code",
   "execution_count": 5,
   "id": "e1b84905",
   "metadata": {},
   "outputs": [
    {
     "name": "stdout",
     "output_type": "stream",
     "text": [
      "True\n"
     ]
    }
   ],
   "source": [
    "Hardware=(\"Monitor\",\"RAM\",\"Expansion cards\",\"HDD\")\n",
    "print(\"HDD\" in Hardware)"
   ]
  },
  {
   "cell_type": "markdown",
   "id": "d47c77f2",
   "metadata": {},
   "source": [
    "## Lab5"
   ]
  },
  {
   "cell_type": "markdown",
   "id": "f70b44fd",
   "metadata": {},
   "source": [
    "Write a program to demonstrate working with dictionaries in python\n",
    "- Create a book dictionary\n",
    "- Add items to dictionary\n",
    "- Change values of a key\n",
    "- Find the length of the made dictionary\n"
   ]
  },
  {
   "cell_type": "code",
   "execution_count": 6,
   "id": "658a9281",
   "metadata": {},
   "outputs": [
    {
     "data": {
      "text/plain": [
       "{'Margaret Mitchell': 'Gone With the Wind',\n",
       " 'Stephanie Meyer': ['Twilight', 'Eclipse', 'New Moon'],\n",
       " 'Rick Riordan': 'Percy Jackson',\n",
       " 'Arthur Conan Doyle': 'Sherlock Holmes',\n",
       " 'J K Rowling': ['Chamber of Secrets',\n",
       "  'Prisoner of Azkaban',\n",
       "  'Goblet of Fire']}"
      ]
     },
     "execution_count": 6,
     "metadata": {},
     "output_type": "execute_result"
    }
   ],
   "source": [
    "Book={\"Margaret Mitchell\":\"Gone With the Wind\", \n",
    "      \"Stephanie Meyer\":[\"Twilight\",\"Eclipse\",\"New Moon\"],\n",
    "      \"Rick Riordan\":\"Percy Jackson\",\n",
    "      \"Arthur Conan Doyle\":\"Sherlock Holmes\",\n",
    "      \"J K Rowling\":[\"Chamber of Secrets\",\"Prisoner of Azkaban\",\"Goblet of Fire\"]}\n",
    "Book"
   ]
  },
  {
   "cell_type": "code",
   "execution_count": 7,
   "id": "41d689ba",
   "metadata": {},
   "outputs": [
    {
     "data": {
      "text/plain": [
       "{'Margaret Mitchell': 'Gone With the Wind',\n",
       " 'Stephanie Meyer': 'Breaking Dawn',\n",
       " 'Rick Riordan': 'Percy Jackson',\n",
       " 'Arthur Conan Doyle': 'Sherlock Holmes',\n",
       " 'J K Rowling': ['Chamber of Secrets',\n",
       "  'Prisoner of Azkaban',\n",
       "  'Goblet of Fire']}"
      ]
     },
     "execution_count": 7,
     "metadata": {},
     "output_type": "execute_result"
    }
   ],
   "source": [
    "#Changing values\n",
    "Book[\"Stephanie Meyer\"]=\"Breaking Dawn\"\n",
    "Book"
   ]
  },
  {
   "cell_type": "code",
   "execution_count": 8,
   "id": "3a6ad79e",
   "metadata": {},
   "outputs": [
    {
     "name": "stdout",
     "output_type": "stream",
     "text": [
      "5\n"
     ]
    }
   ],
   "source": [
    "#Length of dictionary\n",
    "print(len(Book))"
   ]
  },
  {
   "cell_type": "markdown",
   "id": "9f7aed6c",
   "metadata": {},
   "source": [
    "## Lab6"
   ]
  },
  {
   "cell_type": "markdown",
   "id": "239e98e3",
   "metadata": {},
   "source": [
    "Write a python program to convert temperature to and from Celsius to Fahrenheit"
   ]
  },
  {
   "cell_type": "code",
   "execution_count": 9,
   "id": "473269ca",
   "metadata": {},
   "outputs": [
    {
     "name": "stdout",
     "output_type": "stream",
     "text": [
      "Temperature Conversion\n",
      "1.Celsius to Fahrenheit\n",
      "2.Feahrenheit to Celsius\n",
      "Enter choice:2\n",
      "Enter degree in Fahrenheit:34\n",
      "34.0 F=  1.1111111111111112 C\n"
     ]
    }
   ],
   "source": [
    "print(\"Temperature Conversion\")\n",
    "print(\"1.Celsius to Fahrenheit\")\n",
    "print(\"2.Feahrenheit to Celsius\")\n",
    "ch=int(input(\"Enter choice:\"))\n",
    "if(ch==1):\n",
    "    c=float(input(\"Enter degree in Celsius:\"))\n",
    "    f=(c*9/5)+32\n",
    "    print(c,\"C= \",f,\"F\")\n",
    "elif(ch==2):\n",
    "    f=float(input(\"Enter degree in Fahrenheit:\"))\n",
    "    c=(f-32)*5/9\n",
    "    print(f,\"F= \",c,\"C\")"
   ]
  },
  {
   "cell_type": "markdown",
   "id": "d5ac2516",
   "metadata": {},
   "source": [
    "## Lab7"
   ]
  },
  {
   "cell_type": "markdown",
   "id": "20510fa0",
   "metadata": {},
   "source": [
    "Write a python program to construct the following pattern using nested for loop: \n",
    "~~~\n",
    "*  \n",
    "**  \n",
    "***  \n",
    "****  \n",
    "*****  \n",
    "*****  \n",
    "****  \n",
    "***  \n",
    "**  \n",
    "*  \n",
    "~~~"
   ]
  },
  {
   "cell_type": "code",
   "execution_count": 10,
   "id": "c7e4e781",
   "metadata": {},
   "outputs": [
    {
     "name": "stdout",
     "output_type": "stream",
     "text": [
      "* \r\n",
      "* * \r\n",
      "* * * \r\n",
      "* * * * \r\n",
      "* * * * * \r\n",
      "* * * * * \r\n",
      "* * * * \r\n",
      "* * * \r\n",
      "* * \r\n",
      "* \r\n"
     ]
    }
   ],
   "source": [
    "for i in range(0,5):\n",
    "    for j in range(0,i+1):\n",
    "        print(\"*\",end=\" \")\n",
    "    print(\"\\r\")\n",
    "for i in range(5,0,-1):\n",
    "    for j in range(i,0,-1):\n",
    "        print(\"*\",end=\" \")\n",
    "    print(\"\\r\")"
   ]
  },
  {
   "cell_type": "markdown",
   "id": "374b593d",
   "metadata": {},
   "source": [
    "## Lab8"
   ]
  },
  {
   "cell_type": "markdown",
   "id": "94d78af3",
   "metadata": {},
   "source": [
    "Write a Python program that accepts the length of three sides of a triangle as inputs. \n",
    "The program should indicate whether or not the triangle is a right-angled triangle (use the Pythagorean theorem).\n"
   ]
  },
  {
   "cell_type": "code",
   "execution_count": 11,
   "id": "d8867835",
   "metadata": {},
   "outputs": [
    {
     "name": "stdout",
     "output_type": "stream",
     "text": [
      "Sides of triangle\n",
      "Base:3\n",
      "Altitude:4\n",
      "Hypotenuse:5\n",
      "Given right angled triangle\n"
     ]
    }
   ],
   "source": [
    "print(\"Sides of triangle\")\n",
    "a=int(input(\"Base:\"))\n",
    "b=int(input(\"Altitude:\"))\n",
    "c=int(input(\"Hypotenuse:\"))\n",
    "hyp=((a**2)+(b**2))**(1/2)\n",
    "if(c==hyp):\n",
    "    print(\"Given right angled triangle\")\n",
    "else:\n",
    "    print(\"Not right angled triangle\")"
   ]
  },
  {
   "cell_type": "markdown",
   "id": "52d32f2e",
   "metadata": {},
   "source": [
    "## Lab9"
   ]
  },
  {
   "cell_type": "markdown",
   "id": "292cc933",
   "metadata": {},
   "source": [
    "Python program to check whether the given integer is a multiple of both 5 and 7\n"
   ]
  },
  {
   "cell_type": "code",
   "execution_count": 12,
   "id": "6fe1ac67",
   "metadata": {},
   "outputs": [
    {
     "name": "stdout",
     "output_type": "stream",
     "text": [
      "Enter integer:35\n",
      "Multiple of both 5 and 7\n"
     ]
    }
   ],
   "source": [
    "c=int(input(\"Enter integer:\"))\n",
    "if(c%5==0 and c%7==0):\n",
    "    print(\"Multiple of both 5 and 7\")\n",
    "else:\n",
    "    print(\"Not a multiple of both\")"
   ]
  },
  {
   "cell_type": "markdown",
   "id": "17db2278",
   "metadata": {},
   "source": [
    "## Lab10"
   ]
  },
  {
   "cell_type": "markdown",
   "id": "7587a51d",
   "metadata": {},
   "source": [
    "Python program to display all integers within the range 100-200 whose sum of digits is an even number\n"
   ]
  },
  {
   "cell_type": "code",
   "execution_count": 13,
   "id": "71f26c80",
   "metadata": {},
   "outputs": [
    {
     "name": "stdout",
     "output_type": "stream",
     "text": [
      "101\n",
      "103\n",
      "105\n",
      "107\n",
      "109\n",
      "110\n",
      "112\n",
      "114\n",
      "116\n",
      "118\n",
      "121\n",
      "123\n",
      "125\n",
      "127\n",
      "129\n",
      "130\n",
      "132\n",
      "134\n",
      "136\n",
      "138\n",
      "141\n",
      "143\n",
      "145\n",
      "147\n",
      "149\n",
      "150\n",
      "152\n",
      "154\n",
      "156\n",
      "158\n",
      "161\n",
      "163\n",
      "165\n",
      "167\n",
      "169\n",
      "170\n",
      "172\n",
      "174\n",
      "176\n",
      "178\n",
      "181\n",
      "183\n",
      "185\n",
      "187\n",
      "189\n",
      "190\n",
      "192\n",
      "194\n",
      "196\n",
      "198\n",
      "200\n"
     ]
    }
   ],
   "source": [
    "for i in range(100,201):\n",
    "    sum=0\n",
    "    k=i\n",
    "    while(k>0):\n",
    "        rem=k%10\n",
    "        sum=sum+rem\n",
    "        k=k//10\n",
    "    if(sum%2==0):\n",
    "        print(i)\n",
    "    "
   ]
  },
  {
   "cell_type": "markdown",
   "id": "4471783b",
   "metadata": {},
   "source": [
    "## Lab11"
   ]
  },
  {
   "cell_type": "markdown",
   "id": "e138b019",
   "metadata": {},
   "source": [
    "Python program to implement a calculator to do basic operations"
   ]
  },
  {
   "cell_type": "code",
   "execution_count": 14,
   "id": "32f50076",
   "metadata": {},
   "outputs": [
    {
     "name": "stdout",
     "output_type": "stream",
     "text": [
      "enter input 1:65\n",
      "enter input 2:32\n",
      "1:addition\n",
      "2:subtraction\n",
      "3:multiplication\n",
      "4:division\n",
      "5:exponent\n",
      "enter choice5\n",
      "10309258098174834118790766041464760922826826572418212890625\n"
     ]
    }
   ],
   "source": [
    "p=int(input(\"enter input 1:\"))\n",
    "q=int(input(\"enter input 2:\"))\n",
    "print(\"1:addition\")\n",
    "print(\"2:subtraction\")\n",
    "print(\"3:multiplication\")\n",
    "print(\"4:division\")\n",
    "print(\"5:exponent\")\n",
    "n=int(input(\"enter choice:\"))\n",
    "if n==1:\n",
    "    res=p+q\n",
    "elif n==2:\n",
    "    res=p-q\n",
    "elif n==3:\n",
    "    res=p*q\n",
    "elif n==4:\n",
    "    res=p//q\n",
    "elif n==5:\n",
    "    res=p**q\n",
    "print(res)"
   ]
  },
  {
   "cell_type": "markdown",
   "id": "e8811979",
   "metadata": {},
   "source": [
    "## Lab12"
   ]
  },
  {
   "cell_type": "markdown",
   "id": "ec182c54",
   "metadata": {},
   "source": [
    "Python program to implement matrix multiplication"
   ]
  },
  {
   "cell_type": "code",
   "execution_count": 16,
   "id": "89aadfec",
   "metadata": {},
   "outputs": [
    {
     "name": "stdout",
     "output_type": "stream",
     "text": [
      "Enter the number of rows:2\n",
      "Enter the number of columns:2\n",
      "Enter the entries rowwise:\n",
      "2\n",
      "3\n",
      "4\n",
      "3\n",
      "2 3 \n",
      "4 3 \n"
     ]
    }
   ],
   "source": [
    "R = int(input(\"Enter the number of rows:\"))\n",
    "C = int(input(\"Enter the number of columns:\"))\n",
    "matrix = []\n",
    "print(\"Enter the entries rowwise:\")\n",
    "for i in range(R):\n",
    "    a =[]\n",
    "    for j in range(C):\n",
    "        a.append(int(input()))\n",
    "    matrix.append(a)\n",
    "for i in range(R):\n",
    "    for j in range(C):\n",
    "        print(matrix[i][j], end = \" \")\n",
    "    print()\n"
   ]
  },
  {
   "cell_type": "code",
   "execution_count": 21,
   "id": "4dde6e9a",
   "metadata": {},
   "outputs": [
    {
     "name": "stdout",
     "output_type": "stream",
     "text": [
      "Multiplication results\n",
      "[61, 75, 64, 7]\n",
      "[74, 97, 73, 14]\n",
      "[119, 157, 112, 23]\n"
     ]
    }
   ],
   "source": [
    "A = [[1,6,5],\n",
    "    [4, 5, 6],\n",
    "    [7, 8, 9]]\n",
    "\n",
    "B = [[5, 8, 1, 2],\n",
    "    [6, 7, 3, 0],\n",
    "    [4, 5, 9, 1]]\n",
    "\n",
    "result = [[0, 0, 0, 0],\n",
    "        [0, 0, 0, 0],\n",
    "        [0, 0, 0, 0]]\n",
    "\n",
    "for i in range(len(A)):\n",
    "\n",
    "    for j in range(len(B[0])):\n",
    "\n",
    "        for k in range(len(B)):\n",
    "            result[i][j] += A[i][k] * B[k][j]\n",
    "\n",
    "print(\"Multiplication results\")\n",
    "for r in result:\n",
    "    print(r)\n"
   ]
  },
  {
   "cell_type": "markdown",
   "id": "98c1bad4",
   "metadata": {},
   "source": [
    "## Lab13"
   ]
  },
  {
   "cell_type": "markdown",
   "id": "c807a0c8",
   "metadata": {},
   "source": [
    "Python program to print the Fibonacci series using iteration"
   ]
  },
  {
   "cell_type": "code",
   "execution_count": 25,
   "id": "84a3ebae",
   "metadata": {},
   "outputs": [
    {
     "name": "stdout",
     "output_type": "stream",
     "text": [
      "0\n",
      "1\n",
      "1\n",
      "2\n",
      "3\n",
      "5\n",
      "8\n",
      "13\n",
      "21\n",
      "34\n"
     ]
    }
   ],
   "source": [
    "f1=0\n",
    "f2=1\n",
    "print(f1)\n",
    "print(f2)\n",
    "f3=0\n",
    "while f3<30:\n",
    "    f3=f1+f2\n",
    "    print(f3)\n",
    "    f1=f2\n",
    "    f2=f3   "
   ]
  },
  {
   "cell_type": "markdown",
   "id": "0a61644f",
   "metadata": {},
   "source": [
    "## Lab14"
   ]
  },
  {
   "cell_type": "markdown",
   "id": "5ea827b0",
   "metadata": {},
   "source": [
    "Write a Python program to solve (x + y) * (x + y)\n"
   ]
  },
  {
   "cell_type": "code",
   "execution_count": 2,
   "id": "e5e2f9cc",
   "metadata": {},
   "outputs": [
    {
     "name": "stdout",
     "output_type": "stream",
     "text": [
      "Enter input 1 3\n",
      "Enter input 2 6\n",
      "Output is  81\n"
     ]
    }
   ],
   "source": [
    "x=int(input(\"Enter input 1 \"))\n",
    "y=int(input(\"Enter input 2 \"))\n",
    "z=(x+y)*(x+y)\n",
    "print(\"Output is \",z)"
   ]
  },
  {
   "cell_type": "markdown",
   "id": "3a14cb9b",
   "metadata": {},
   "source": [
    "## Lab15"
   ]
  },
  {
   "cell_type": "code",
   "execution_count": 4,
   "id": "7e1820da",
   "metadata": {},
   "outputs": [],
   "source": [
    "import os"
   ]
  },
  {
   "cell_type": "code",
   "execution_count": 6,
   "id": "70f87844",
   "metadata": {},
   "outputs": [
    {
     "name": "stdout",
     "output_type": "stream",
     "text": [
      "Distance= 1.4142135623730951\n",
      "\n"
     ]
    }
   ],
   "source": [
    "print(os.popen(\"python add.py 4 3 5 2\").read())"
   ]
  },
  {
   "cell_type": "markdown",
   "id": "572887a3",
   "metadata": {},
   "source": [
    "## Lab16"
   ]
  },
  {
   "cell_type": "markdown",
   "id": "61cd5680",
   "metadata": {},
   "source": [
    "Python Program to implement sorting techniques: -\n",
    "- Bubble Sort\n",
    "- Quick Sort\n"
   ]
  },
  {
   "cell_type": "code",
   "execution_count": 7,
   "id": "35f9c88e",
   "metadata": {},
   "outputs": [
    {
     "name": "stdout",
     "output_type": "stream",
     "text": [
      "Given array:\n",
      "[6, 3, 5, 9, 1, 7, 2]\n",
      "---Bubble sort---\n",
      "Sorted array:\n",
      "[1, 2, 3, 5, 6, 7, 9]\n",
      "---Quick sort---\n",
      "Unsorted Array\n",
      "[1, 7, 4, 1, 10, 9, -2]\n",
      "Sorted Array in Ascending Order:\n",
      "[-2, 1, 1, 4, 7, 9, 10]\n"
     ]
    }
   ],
   "source": [
    "ar=[6,3,5,9,1,7,2]\n",
    "print(\"Given array:\")\n",
    "print(ar)\n",
    "n=len(ar)\n",
    "\n",
    "print(\"---Bubble sort---\")\n",
    "for i in range(n-1):\n",
    "    for j in range(0,n-i-1):\n",
    "        if(ar[j]>ar[j+1]):\n",
    "            temp=ar[j]\n",
    "            ar[j]=ar[j+1]\n",
    "            ar[j+1]=temp\n",
    "print(\"Sorted array:\")\n",
    "print(ar)\n",
    "\n",
    "print(\"---Quick sort---\")\n",
    "def partition(array, low, high):\n",
    "    pivot = array[high]\n",
    "    i = low - 1\n",
    "    for j in range(low, high):\n",
    "        if array[j] <= pivot:\n",
    "            i = i + 1\n",
    "            (array[i], array[j]) = (array[j], array[i])\n",
    "    (array[i + 1], array[high]) = (array[high], array[i + 1])\n",
    "    return i + 1\n",
    "def quickSort(array, low, high):\n",
    "    if low < high:\n",
    "        pi = partition(array, low, high)\n",
    "        quickSort(array, low, pi - 1)\n",
    "        quickSort(array, pi + 1, high)\n",
    "data = [1, 7, 4, 1, 10, 9, -2]\n",
    "print(\"Unsorted Array\")\n",
    "print(data)\n",
    "size = len(data)\n",
    "quickSort(data, 0, size - 1)\n",
    "print('Sorted Array in Ascending Order:')\n",
    "print(data)"
   ]
  },
  {
   "cell_type": "code",
   "execution_count": 5,
   "id": "e3531b15",
   "metadata": {},
   "outputs": [],
   "source": [
    "arr = [i for i in range(1,11) if i%2 == 0]\n",
    "\n",
    "# for i in range(1,11):\n",
    "#     arr.append(i)"
   ]
  },
  {
   "cell_type": "code",
   "execution_count": 6,
   "id": "9b6bd68c",
   "metadata": {},
   "outputs": [
    {
     "data": {
      "text/plain": [
       "[2, 4, 6, 8, 10]"
      ]
     },
     "execution_count": 6,
     "metadata": {},
     "output_type": "execute_result"
    }
   ],
   "source": [
    "arr"
   ]
  },
  {
   "cell_type": "markdown",
   "id": "a50923e1",
   "metadata": {},
   "source": [
    "## Lab17"
   ]
  },
  {
   "cell_type": "markdown",
   "id": "825014ac",
   "metadata": {},
   "source": [
    "Python Program to implement searching techniques: -\n",
    "- Linear search\n",
    "- Binary search\n"
   ]
  },
  {
   "cell_type": "code",
   "execution_count": 9,
   "id": "a2e4c7b5",
   "metadata": {},
   "outputs": [
    {
     "name": "stdout",
     "output_type": "stream",
     "text": [
      "----LINEAR SEARCH----\n",
      "Enter element to be searched:4\n",
      "Element found at index 4\n",
      "----BINARY SEARCH----\n",
      "Enter element to be searched:3\n",
      "Element not found\n"
     ]
    }
   ],
   "source": [
    "print(\"----LINEAR SEARCH----\")\n",
    "ar=[6,2,9,4,1,12,7]\n",
    "flag=0\n",
    "x=int(input(\"Enter element to be searched:\"))\n",
    "for i in range(len(ar)):\n",
    "    if ar[i]==x:\n",
    "        print(\"Element found at index\",i+1)\n",
    "        flag=1\n",
    "if flag==0:\n",
    "    print(\"Element not found\")\n",
    "flag=0\n",
    "print(\"----BINARY SEARCH----\")\n",
    "asc_ar=[2,5,8,9,11,13,16,19]\n",
    "x=int(input(\"Enter element to be searched:\"))\n",
    "end=len(asc_ar)\n",
    "start=0\n",
    "mid=end//2\n",
    "for i in range(start,end):\n",
    "#    mid=end//2\n",
    "    if x==asc_ar[mid]:\n",
    "        print(\"Element found at index\",mid+1)\n",
    "        flag=1\n",
    "        break\n",
    "    elif x>asc_ar[mid]:\n",
    "        start=mid+1\n",
    "    else:\n",
    "        end=mid-1\n",
    "    mid=(start+end)//2\n",
    "if flag==0:\n",
    "    print(\"Element not found\")"
   ]
  },
  {
   "cell_type": "markdown",
   "id": "0eefd878",
   "metadata": {},
   "source": [
    "## Lab18"
   ]
  },
  {
   "cell_type": "markdown",
   "id": "4e17743c",
   "metadata": {},
   "source": [
    "Write a recursive function to calculate the sum of numbers from 0 to 10"
   ]
  },
  {
   "cell_type": "code",
   "execution_count": 3,
   "id": "58d71ee3",
   "metadata": {},
   "outputs": [
    {
     "name": "stdout",
     "output_type": "stream",
     "text": [
      "The sum is 55\n"
     ]
    }
   ],
   "source": [
    "def recur_sum(n):\n",
    "   if n >= 10:\n",
    "       return n\n",
    "   else:\n",
    "       return n + recur_sum(n+1)\n",
    "num = 0\n",
    "print(\"The sum is\",recur_sum(num))"
   ]
  },
  {
   "cell_type": "markdown",
   "id": "846d82c5",
   "metadata": {},
   "source": [
    "## Lab19"
   ]
  },
  {
   "cell_type": "markdown",
   "id": "8dd5898d",
   "metadata": {},
   "source": [
    "Write a Python function student_data () which will print the id of a student (student_id).\n",
    "If the user passes an argument student_name or student_class the function will print the\n",
    "student name and class."
   ]
  },
  {
   "cell_type": "code",
   "execution_count": 4,
   "id": "0016bc35",
   "metadata": {},
   "outputs": [],
   "source": [
    "class student_data:\n",
    "    def __init__(self,sid,sname,sclass):\n",
    "        self.sid = sid\n",
    "        self.sname = sname\n",
    "        self.sclass = sclass\n",
    "        print (\"Student ID:\",sid,\"\\nStudent name:\",sname,\"\\nStudent class:\",sclass)\n",
    "    "
   ]
  },
  {
   "cell_type": "code",
   "execution_count": 5,
   "id": "03255657",
   "metadata": {},
   "outputs": [
    {
     "name": "stdout",
     "output_type": "stream",
     "text": [
      "Student ID: 1 \n",
      "Student name: Alan \n",
      "Student class: MCA\n",
      "Student ID: 2 \n",
      "Student name: Ajay \n",
      "Student class: MSc\n"
     ]
    }
   ],
   "source": [
    "s1=student_data('1','Alan','MCA')\n",
    "s2=student_data('2','Ajay','MSc')"
   ]
  },
  {
   "cell_type": "code",
   "execution_count": 6,
   "id": "ad122ca3",
   "metadata": {},
   "outputs": [],
   "source": [
    "class student_data:\n",
    "    def __init__(self, sid):\n",
    "        self.sid=sid\n",
    "        print(sid)\n",
    "    \n",
    "    def sname(self,sname):\n",
    "        return (f'Student name: {sname}')\n",
    "\n",
    "    def sclass(self,sclass):\n",
    "        return (f'Student class: {sclass}')"
   ]
  },
  {
   "cell_type": "code",
   "execution_count": 12,
   "id": "efff82e3",
   "metadata": {},
   "outputs": [
    {
     "name": "stdout",
     "output_type": "stream",
     "text": [
      "1\n",
      "2\n"
     ]
    }
   ],
   "source": [
    "s1=student_data('1')\n",
    "s2=student_data('2')"
   ]
  },
  {
   "cell_type": "code",
   "execution_count": 13,
   "id": "0c489474",
   "metadata": {},
   "outputs": [
    {
     "data": {
      "text/plain": [
       "'Student name: Alan'"
      ]
     },
     "execution_count": 13,
     "metadata": {},
     "output_type": "execute_result"
    }
   ],
   "source": [
    "s1.sname('Alan')"
   ]
  },
  {
   "cell_type": "code",
   "execution_count": 14,
   "id": "627726f8",
   "metadata": {},
   "outputs": [
    {
     "data": {
      "text/plain": [
       "'Student class: Ajay'"
      ]
     },
     "execution_count": 14,
     "metadata": {},
     "output_type": "execute_result"
    }
   ],
   "source": [
    "s2.sclass('Ajay')"
   ]
  },
  {
   "cell_type": "markdown",
   "id": "3c21a642",
   "metadata": {},
   "source": [
    "## Lab20"
   ]
  },
  {
   "cell_type": "markdown",
   "id": "96a336e5",
   "metadata": {},
   "source": [
    "Write a Python program to reverse the digits of a given number and add it to the original.\n",
    "If the sum is not a palindrome repeat this procedure"
   ]
  },
  {
   "cell_type": "code",
   "execution_count": 15,
   "id": "3972b2cb",
   "metadata": {},
   "outputs": [
    {
     "name": "stdout",
     "output_type": "stream",
     "text": [
      "5555\n",
      "9339\n"
     ]
    }
   ],
   "source": [
    "def rev_number(n):\n",
    "  s = 0\n",
    "  while True:\n",
    "    k = str(n)\n",
    "    if k == k[::-1]:\n",
    "      break\n",
    "    else:\n",
    "      m = int(k[::-1])\n",
    "      n += m\n",
    "      s += 1\n",
    "  return n \n",
    "\n",
    "print(rev_number(1234))\n",
    "print(rev_number(1473))\n"
   ]
  },
  {
   "cell_type": "markdown",
   "id": "46697232",
   "metadata": {},
   "source": [
    "## Lab21"
   ]
  },
  {
   "cell_type": "markdown",
   "id": "07e33dd7",
   "metadata": {},
   "source": [
    "Write a menu-driven program that creates a Phonebook Directory using the different\n",
    "functions. We will add the following features to the Phonebook Directory:\n",
    "- Storing the Contact Numbers of People\n",
    "- Searching for the Contact Number using the person&#39;s name"
   ]
  },
  {
   "cell_type": "code",
   "execution_count": 20,
   "id": "1525d5b2",
   "metadata": {},
   "outputs": [
    {
     "name": "stdout",
     "output_type": "stream",
     "text": [
      "Please choose any choice from below -\n",
      "\n",
      "\n",
      "\n",
      "Store Contact number (1)\n",
      "Search Contact number (2)\n",
      "Update Contact number (3)\n",
      "1\n",
      "\n",
      "\n",
      "Enter the name and phone number separated by space - \n",
      "cool 123456789\n",
      "Contact Stored !\n",
      "Do you want to perform more operations? (y / n)\n",
      "y\n",
      "Please choose any choice from below -\n",
      "\n",
      "\n",
      "\n",
      "Store Contact number (1)\n",
      "Search Contact number (2)\n",
      "Update Contact number (3)\n",
      "2\n",
      "Enter the name to be searched - \n",
      "cool\n",
      "Contact Found !\n",
      "cool 123456789\n",
      "Do you want to perform more operations? (y / n)\n",
      "n\n"
     ]
    }
   ],
   "source": [
    "contact = {}\n",
    " \n",
    "\n",
    "inputLis = [\"1\", \"cool 1234789\",\n",
    "            \"y\", \"2\", \"cool\", \"n\"]\n",
    "indi = -1\n",
    " \n",
    "def input():\n",
    "    global indi\n",
    "    indi += 1\n",
    "    print(inputLis[indi])\n",
    "    return inputLis[indi]\n",
    "\n",
    "def update():\n",
    "    global contact\n",
    "    print(\"Enter the contact name\"\\\n",
    "        \" to be updated - \")\n",
    " \n",
    "    name = input().strip()\n",
    " \n",
    "    if name in contact:\n",
    "        print(\"Enter the new\"\\\n",
    "            \" contact number - \")\n",
    "        phone = int(input())\n",
    " \n",
    "        contact[name] = phone\n",
    " \n",
    "        print(\"Contact updated\\n\")\n",
    "    else:\n",
    "        print(\"Contact not found !\\n\")\n",
    " \n",
    "    print(\"Do you want to perform \"\\\n",
    "        \"more operations? (y / n)\")\n",
    " \n",
    "    choice = input().strip()\n",
    "    if choice == \"y\":\n",
    "        main()\n",
    "\n",
    "def search():\n",
    "    global contact\n",
    "    print(\"Enter the name to be searched - \")\n",
    " \n",
    "    name = input().strip()\n",
    " \n",
    "    if name in contact:\n",
    "        print(\"Contact Found !\")\n",
    "        print(name, contact[name])\n",
    "    else:\n",
    "        print(\"Contact not found !\\n\")\n",
    " \n",
    " \n",
    "    print(\"Do you want to perform more\"\\\n",
    "        \" operations? (y / n)\")\n",
    " \n",
    "    choice = input().strip()\n",
    "    if choice == \"y\":\n",
    "        main()\n",
    "        \n",
    "def store():\n",
    "    print(\"\\n\\nEnter the name\"\\\n",
    "        \" and phone number\"+\\\n",
    "        \" separated by space - \")\n",
    " \n",
    "    name, phone = map(str, \\\n",
    "                    input().strip()\\\n",
    "                            .split(\" \"))\n",
    " \n",
    "    global contact\n",
    "    if name in contact:\n",
    "        print(\"Contact Already exists !\\n\")\n",
    "    else:\n",
    "        contact[name] = phone\n",
    "        print(\"Contact Stored !\")\n",
    " \n",
    "    print(\"Do you want to perform more\"\\\n",
    "        \" operations? (y / n)\")\n",
    " \n",
    "    choice = input().strip()\n",
    "    if choice == \"y\":\n",
    "        main()\n",
    " \n",
    "def main():\n",
    "    print(\"Please choose any choice\"\\\n",
    "        \" from below -\\n\\n\\n\")\n",
    "    print(\"Store Contact number (1)\")\n",
    "    print(\"Search Contact number (2)\")\n",
    "    print(\"Update Contact number (3)\")\n",
    " \n",
    "    choice = int(input())\n",
    "    \n",
    "    choice_dict = {\n",
    "        1: store,\n",
    "        2: search,\n",
    "        3: update,\n",
    "    }\n",
    " \n",
    "    choice_dict[choice]()\n",
    " \n",
    "main()\n"
   ]
  },
  {
   "cell_type": "markdown",
   "id": "2fd56ad5",
   "metadata": {},
   "source": [
    "## Lab22"
   ]
  },
  {
   "cell_type": "markdown",
   "id": "aecbc4d0",
   "metadata": {},
   "source": [
    "Perform various set operations\n",
    "- Set Union\n",
    "- Set Intersection\n",
    "- Set Difference"
   ]
  },
  {
   "cell_type": "code",
   "execution_count": 21,
   "id": "33da4cb7",
   "metadata": {},
   "outputs": [
    {
     "name": "stdout",
     "output_type": "stream",
     "text": [
      "Union: {1, 2, 4, 5, 9}\n",
      "Intersection: {9}\n",
      "Difference: {1, 5}\n"
     ]
    }
   ],
   "source": [
    "A = {1, 9, 5}\n",
    "B = {9, 2, 4}\n",
    "print('Union:', A | B)\n",
    "print('Intersection:', A & B)\n",
    "print('Difference:', A - B)"
   ]
  },
  {
   "cell_type": "markdown",
   "id": "0922e20b",
   "metadata": {},
   "source": [
    "## Lab23"
   ]
  },
  {
   "cell_type": "markdown",
   "id": "149bc1bf",
   "metadata": {},
   "source": [
    "Create a dictionary to store the name, roll_no, total_mark of N students. Now print the details of the student who has got the highest total_mark"
   ]
  },
  {
   "cell_type": "code",
   "execution_count": 31,
   "id": "4b847000",
   "metadata": {},
   "outputs": [
    {
     "ename": "TypeError",
     "evalue": "input() takes 0 positional arguments but 1 was given",
     "output_type": "error",
     "traceback": [
      "\u001b[1;31m---------------------------------------------------------------------------\u001b[0m",
      "\u001b[1;31mTypeError\u001b[0m                                 Traceback (most recent call last)",
      "\u001b[1;32m~\\AppData\\Local\\Temp\\ipykernel_19528\\2936114145.py\u001b[0m in \u001b[0;36m<module>\u001b[1;34m\u001b[0m\n\u001b[1;32m----> 1\u001b[1;33m \u001b[0mN\u001b[0m \u001b[1;33m=\u001b[0m \u001b[0mint\u001b[0m\u001b[1;33m(\u001b[0m\u001b[0minput\u001b[0m\u001b[1;33m(\u001b[0m\u001b[1;34m\"Enter the number of students:\"\u001b[0m\u001b[1;33m)\u001b[0m\u001b[1;33m)\u001b[0m\u001b[1;33m\u001b[0m\u001b[1;33m\u001b[0m\u001b[0m\n\u001b[0m\u001b[0;32m      2\u001b[0m \u001b[0mstudents\u001b[0m \u001b[1;33m=\u001b[0m \u001b[1;33m{\u001b[0m\u001b[1;33m}\u001b[0m\u001b[1;33m\u001b[0m\u001b[1;33m\u001b[0m\u001b[0m\n\u001b[0;32m      3\u001b[0m \u001b[1;32mfor\u001b[0m \u001b[0mi\u001b[0m \u001b[1;32min\u001b[0m \u001b[0mrange\u001b[0m\u001b[1;33m(\u001b[0m\u001b[0mN\u001b[0m\u001b[1;33m)\u001b[0m\u001b[1;33m:\u001b[0m\u001b[1;33m\u001b[0m\u001b[1;33m\u001b[0m\u001b[0m\n\u001b[0;32m      4\u001b[0m     \u001b[0mprint\u001b[0m\u001b[1;33m(\u001b[0m\u001b[1;34mf\"\\nEnter student details {i+1}:\"\u001b[0m\u001b[1;33m)\u001b[0m\u001b[1;33m\u001b[0m\u001b[1;33m\u001b[0m\u001b[0m\n\u001b[0;32m      5\u001b[0m     \u001b[0mname\u001b[0m \u001b[1;33m=\u001b[0m \u001b[0minput\u001b[0m\u001b[1;33m(\u001b[0m\u001b[1;34m\"Name: \"\u001b[0m\u001b[1;33m)\u001b[0m\u001b[1;33m\u001b[0m\u001b[1;33m\u001b[0m\u001b[0m\n",
      "\u001b[1;31mTypeError\u001b[0m: input() takes 0 positional arguments but 1 was given"
     ]
    }
   ],
   "source": [
    "N = int(input(\"Enter the number of students:\"))\n",
    "students = {}\n",
    "for i in range(N):\n",
    "    print(f\"\\nEnter student details {i+1}:\")\n",
    "    name = input(\"Name: \")\n",
    "    roll_no = input(\"Roll No: \")\n",
    "    tot_mark = float(input(\"Total Marks: \"))\n",
    "    students[roll_no] = {\n",
    "        \"name\": name,\n",
    "        \"total_mark\": total_mark\n",
    "    }\n",
    "highest_mark = -1\n",
    "highest_mark_student = None\n",
    "\n",
    "for roll_no, details in students.items():\n",
    "    if details[\"total_mark\"] > highest_mark:\n",
    "        highest_mark = details[\"total_mark\"]\n",
    "        highest_mark_student = details\n",
    "\n",
    "\n",
    "print(\"\\nStudent with the highest total_mark:\")\n",
    "print(\"Name:\", highest_mark_student[\"name\"])\n",
    "print(\"Roll No:\", highest_mark_student[\"roll_no\"])\n",
    "print(\"Total Marks:\", highest_mark_student[\"total_mark\"])\n"
   ]
  },
  {
   "cell_type": "markdown",
   "id": "8b5daf14",
   "metadata": {},
   "source": [
    "## Lab24"
   ]
  },
  {
   "cell_type": "markdown",
   "id": "5aad1fa8",
   "metadata": {},
   "source": [
    "Write a Python program to copy the contents of a file into another file line by line"
   ]
  },
  {
   "cell_type": "code",
   "execution_count": 44,
   "id": "259447f1",
   "metadata": {},
   "outputs": [
    {
     "name": "stdout",
     "output_type": "stream",
     "text": [
      "Hi\n",
      "Hihello nice to see you\n"
     ]
    }
   ],
   "source": [
    "with open('file1.txt','r') as f1, open('file2.txt','r+') as f2:\n",
    "    str1=f2.read()\n",
    "    print(str1)\n",
    "    for line in f1:\n",
    "        f2.write(line)\n",
    "    f2.seek(0)\n",
    "    str2=f2.read()\n",
    "    print(str2)"
   ]
  },
  {
   "cell_type": "code",
   "execution_count": 43,
   "id": "46cacd1e",
   "metadata": {},
   "outputs": [],
   "source": [
    "f1.close()\n",
    "f2.close()"
   ]
  },
  {
   "cell_type": "markdown",
   "id": "a3e25448",
   "metadata": {},
   "source": [
    "## Lab25"
   ]
  },
  {
   "cell_type": "markdown",
   "id": "d6afd5cd",
   "metadata": {},
   "source": [
    "25.\tUse os module to perform\n",
    "- Create a directory\n",
    "- Directory listing\n",
    "- Search for “.py” files\n",
    "- Remove a particular file"
   ]
  },
  {
   "cell_type": "code",
   "execution_count": 5,
   "id": "292a8ec1",
   "metadata": {},
   "outputs": [
    {
     "name": "stdout",
     "output_type": "stream",
     "text": [
      "Directory  anitha  created\n"
     ]
    }
   ],
   "source": [
    "import os\n",
    "os.getcwd()\n",
    "dirct=\"anitha\"\n",
    "p_dir=\"E:/python lab\"\n",
    "path=os.path.join(p_dir,dirct)\n",
    "os.mkdir(path)\n",
    "print(\"Directory \",dirct,\" created\")"
   ]
  },
  {
   "cell_type": "code",
   "execution_count": 4,
   "id": "9e97c5be",
   "metadata": {},
   "outputs": [
    {
     "data": {
      "text/plain": [
       "'E:\\\\python lab'"
      ]
     },
     "execution_count": 4,
     "metadata": {},
     "output_type": "execute_result"
    }
   ],
   "source": [
    "os.getcwd()"
   ]
  },
  {
   "cell_type": "code",
   "execution_count": 7,
   "id": "0171cd4c",
   "metadata": {},
   "outputs": [
    {
     "name": "stdout",
     "output_type": "stream",
     "text": [
      "Files and directories in ' ./ ' :\n",
      "['.ipynb_checkpoints', 'add.py', 'amal exam homework (1).ipynb', 'anitha', 'Anitha1.ipynb', 'Anitha2 (1).ipynb', 'Anitha2.ipynb', 'Anitha3.ipynb', 'BullseyeCoverageError.txt', 'C19.csv', 'C19viz.ipynb', 'Data_Train.xlsx', 'demo.py', 'file1.txt', 'file2.txt', 'Heart Failure Prediction.ipynb', 'heart_failure_clinical_records_dataset.csv', 'Lab work.ipynb', 'Mineral ores round the world.csv', 'mysql.docx', 'Python pgm list.docx', 'Python_Record.ipynb', 'SuperStoreUS-2015 (1).xlsx', 'test.txt', 'UK_Accident.csv', 'Untitled.ipynb', 'Untitled1.ipynb', 'Untitled2.ipynb', 'Untitled4.ipynb', 'Untitled5.ipynb', 'Untitled9.ipynb', '__pycache__']\n"
     ]
    }
   ],
   "source": [
    "path = \"./\"\n",
    "dir_list = os.listdir(path)\n",
    "print(\"Files and directories in '\", path, \"' :\")\n",
    "# print the list\n",
    "print(dir_list)"
   ]
  },
  {
   "cell_type": "code",
   "execution_count": 10,
   "id": "77284d7f",
   "metadata": {},
   "outputs": [],
   "source": [
    "path=os.path.join(p_dir,dirct)\n",
    "os.rmdir(path)"
   ]
  },
  {
   "cell_type": "code",
   "execution_count": 16,
   "id": "c195ea72",
   "metadata": {},
   "outputs": [],
   "source": [
    "dir_path = os.path.dirname(os.path.realpath(__file__))\n",
    "for root, dirs, files in os.walk(dir_path):\n",
    "    for file in files:\n",
    "        if file.endswith('.py'):\n",
    "            print (root+'/'+str(file))"
   ]
  },
  {
   "cell_type": "code",
   "execution_count": null,
   "id": "0d45231d",
   "metadata": {},
   "outputs": [],
   "source": []
  }
 ],
 "metadata": {
  "kernelspec": {
   "display_name": "Python 3 (ipykernel)",
   "language": "python",
   "name": "python3"
  },
  "language_info": {
   "codemirror_mode": {
    "name": "ipython",
    "version": 3
   },
   "file_extension": ".py",
   "mimetype": "text/x-python",
   "name": "python",
   "nbconvert_exporter": "python",
   "pygments_lexer": "ipython3",
   "version": "3.9.13"
  }
 },
 "nbformat": 4,
 "nbformat_minor": 5
}
